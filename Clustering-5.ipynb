{
 "cells": [
  {
   "cell_type": "code",
   "execution_count": null,
   "id": "6ac9f3d6-1438-4af2-826c-d184707d7904",
   "metadata": {},
   "outputs": [],
   "source": [
    "Q1. What is a contingency matrix, and how is it used to evaluate the performance of a classification model?"
   ]
  },
  {
   "cell_type": "code",
   "execution_count": null,
   "id": "b43c2c51-f530-4275-b7d5-3ecca7d3e867",
   "metadata": {},
   "outputs": [],
   "source": [
    "ANS= \n",
    "    we will restrict to square contingency tables where the rows represent predicted categories \n",
    "    and the columns represent actual categories.\n",
    "    Such a contingency table can be also called a confusion matrix, whereas those of Table 2 are not.\n",
    "    A confusion matrix must be square, and the rows and columns should denote the same categories,\n",
    "    one being actual and the other predicted.\n",
    "    \n",
    "    The usual model performance measures for evaluating a classification model are accuracy,\n",
    "    sensitivity or recall, specificity, precision, KS statistic and Area under the curve (AUC)."
   ]
  },
  {
   "cell_type": "code",
   "execution_count": null,
   "id": "62dc31c3-5727-440a-a135-b444add9286c",
   "metadata": {},
   "outputs": [],
   "source": []
  },
  {
   "cell_type": "code",
   "execution_count": null,
   "id": "0e90a9ae-1992-4542-a3c3-28dd4a40f573",
   "metadata": {},
   "outputs": [],
   "source": [
    "Q2. How is a pair confusion matrix different from a regular confusion matrix, and why might it be useful in\n",
    "certain situations?"
   ]
  },
  {
   "cell_type": "code",
   "execution_count": null,
   "id": "525c12f7-0fbf-41c4-93e6-dcf5cdc7b79e",
   "metadata": {},
   "outputs": [],
   "source": [
    "ANS = \n",
    "   1. The data rows (emails) belonging to the positive class (spam) and correctly classified as such.\n",
    "     These are called True Positives (TP). The number of true positives is placed in the top left cell of the confusion matrix.\n",
    "    2. The data rows (emails) belonging to the positive class (spam) and incorrectly classified as negative (normal emails).\n",
    "      These are called False Negatives (FN). The number of false negatives is placed in the top right cell of the confusion matrix.\n",
    "    3.The data rows (emails) belonging to the negative class (normal) and incorrectly classified as positive (spam emails).\n",
    "       These are called False Positives (FP). The number of false positives is placed in the lower left cell of the confusion matrix."
   ]
  },
  {
   "cell_type": "code",
   "execution_count": null,
   "id": "4c224e47-1049-41d3-9c5e-b8493b54cdcf",
   "metadata": {},
   "outputs": [],
   "source": []
  },
  {
   "cell_type": "code",
   "execution_count": null,
   "id": "a4dfe75f-76f9-4a69-8ed1-f6f98c1b3c6c",
   "metadata": {},
   "outputs": [],
   "source": [
    "Q3. What is an extrinsic measure in the context of natural language processing, and how is it typically\n",
    "used to evaluate the performance of language models?"
   ]
  },
  {
   "cell_type": "code",
   "execution_count": null,
   "id": "d4ee5a8d-1866-40ee-80ec-f367c816e8e5",
   "metadata": {},
   "outputs": [],
   "source": [
    "ANS = \n",
    "     Extrinsic evaluation is also called task-based evaluation and captures how useful the model\n",
    "    is in a particular task that is used in downstream applications.\n",
    "    Entropy, Cross entropy, and Perplexity are common metrics for evaluating the performance of language models in NLP."
   ]
  },
  {
   "cell_type": "code",
   "execution_count": null,
   "id": "ebf76572-58ec-4506-9447-da91d828bc91",
   "metadata": {},
   "outputs": [],
   "source": []
  },
  {
   "cell_type": "code",
   "execution_count": null,
   "id": "eceb0cfb-745e-4c43-8717-a133c9385a83",
   "metadata": {},
   "outputs": [],
   "source": [
    "Q4. What is an intrinsic measure in the context of machine learning, and how does it differ from an\n",
    "extrinsic measure?"
   ]
  },
  {
   "cell_type": "code",
   "execution_count": null,
   "id": "298aa9ea-3fc1-4fbf-ab8e-d09e4c3cb42f",
   "metadata": {},
   "outputs": [],
   "source": [
    "ANS=\n",
    "    In intrinsic evaluation, system output is evaluated against the pre-determined ground truth \n",
    "    whereas in extrinsic evaluation quality of system output is assessed based on its impact on \n",
    "    the performance of other NLP systems.\n",
    "     \n",
    "    The intrinsic value of something is said to be the value that that thing has “in itself,” \n",
    "    or “for its own sake,” or “as such,” or “in its own right.” Extrinsic value is value that is not intrinsic.\n",
    "    Many philosophers take intrinsic value to be crucial to a variety of moral judgments."
   ]
  },
  {
   "cell_type": "code",
   "execution_count": null,
   "id": "8fe6f5f9-209a-427c-a86f-0ca7eacf52a6",
   "metadata": {},
   "outputs": [],
   "source": []
  },
  {
   "cell_type": "code",
   "execution_count": null,
   "id": "e119e625-e42b-4870-acd0-2c79a498334f",
   "metadata": {},
   "outputs": [],
   "source": [
    "Q5. What is the purpose of a confusion matrix in machine learning, and how can it be used to identify\n",
    "strengths and weaknesses of a model?"
   ]
  },
  {
   "cell_type": "code",
   "execution_count": null,
   "id": "97cf48de-bd62-4b80-927b-fcf7a0f3df22",
   "metadata": {},
   "outputs": [],
   "source": [
    "ANS = \n",
    "    A confusion matrix is a performance evaluation tool in machine learning, representing the accuracy \n",
    "    of a classification model.\n",
    "    It displays the number of true positives, true negatives, false positives, and false negatives."
   ]
  },
  {
   "cell_type": "code",
   "execution_count": null,
   "id": "2d054d49-c955-4055-be67-3f7219143d72",
   "metadata": {},
   "outputs": [],
   "source": []
  },
  {
   "cell_type": "code",
   "execution_count": null,
   "id": "3135f901-02f5-40a9-a428-5a952876a6fb",
   "metadata": {},
   "outputs": [],
   "source": [
    "Q6. What are some common intrinsic measures used to evaluate the performance of unsupervised\n",
    "learning algorithms, and how can they be interpreted?"
   ]
  },
  {
   "cell_type": "code",
   "execution_count": null,
   "id": "0b855d8d-2cbc-4433-b83f-d1c199470e29",
   "metadata": {},
   "outputs": [],
   "source": [
    "ANS = \n",
    "    Some of the most common algorithms used in unsupervised learning include: \n",
    "        (1) Clustering, (2) Anomaly detection, (3) Approaches for learning latent variable models. \n",
    "        Each approach uses several methods as follows:\n",
    "        Clustering methods include: hierarchical clustering, k-means, mixture models, DBSCAN, and OPTICS algorithm.\n",
    "        \n",
    "        What is unsupervised learning? Unsupervised learning, also known as unsupervised machine learning, \n",
    "        uses machine learning algorithms to analyze and cluster unlabeled datasets.\n",
    "        These algorithms discover hidden patterns or data groupings without the need for human intervention."
   ]
  },
  {
   "cell_type": "code",
   "execution_count": null,
   "id": "b40a5cdc-128c-4c77-90cf-1516cf0d6939",
   "metadata": {},
   "outputs": [],
   "source": []
  },
  {
   "cell_type": "code",
   "execution_count": null,
   "id": "864cf8a6-dc12-4a53-9445-02bd64f99c43",
   "metadata": {},
   "outputs": [],
   "source": [
    "Q7. What are some limitations of using accuracy as a sole evaluation metric for classification tasks, and\n",
    "how can these limitations be addressed?"
   ]
  },
  {
   "cell_type": "code",
   "execution_count": null,
   "id": "aa46abb3-250f-44bb-937c-112caa0382dc",
   "metadata": {},
   "outputs": [],
   "source": [
    "ANS = \n",
    "    The problem with using accuracy as your main performance metric is \n",
    "    that it does not do well when you have a severe class imbalance.\n",
    "    Lets use the dataset in the confusion matrix above.\n",
    "    Lets say the negatives are normal transactions and the positives are fraudulent transactions.\n",
    "    \n",
    "    Accuracy, confusion matrix, log-loss, and AUC-ROC are some of the most popular metrics. \n",
    "    Precision-recall is a widely used metrics for classification problems."
   ]
  },
  {
   "cell_type": "code",
   "execution_count": null,
   "id": "06b0f378-46ea-4ba7-84b3-5451c60c1a00",
   "metadata": {},
   "outputs": [],
   "source": []
  }
 ],
 "metadata": {
  "kernelspec": {
   "display_name": "Python 3 (ipykernel)",
   "language": "python",
   "name": "python3"
  },
  "language_info": {
   "codemirror_mode": {
    "name": "ipython",
    "version": 3
   },
   "file_extension": ".py",
   "mimetype": "text/x-python",
   "name": "python",
   "nbconvert_exporter": "python",
   "pygments_lexer": "ipython3",
   "version": "3.10.8"
  }
 },
 "nbformat": 4,
 "nbformat_minor": 5
}
